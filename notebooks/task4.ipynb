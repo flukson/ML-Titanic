{
 "cells": [
  {
   "cell_type": "markdown",
   "metadata": {},
   "source": [
    "# Explanations for Task 4\n",
    "\n",
    "Below I check what would be the best ranges for categorized \"Age\" assuming different number of categories with qcut function:"
   ]
  },
  {
   "cell_type": "code",
   "execution_count": 6,
   "metadata": {
    "scrolled": true
   },
   "outputs": [
    {
     "name": "stdout",
     "output_type": "stream",
     "text": [
      "0       (19.0, 25.0]\n",
      "1       (25.0, 32.0]\n",
      "2       (19.0, 25.0]\n",
      "3       (42.0, 80.0]\n",
      "4       (25.0, 32.0]\n",
      "           ...      \n",
      "797     (25.0, 32.0]\n",
      "798    (0.419, 19.0]\n",
      "799              NaN\n",
      "800     (25.0, 32.0]\n",
      "801     (25.0, 32.0]\n",
      "Name: Age, Length: 802, dtype: category\n",
      "Categories (5, interval[float64]): [(0.419, 19.0] < (19.0, 25.0] < (25.0, 32.0] < (32.0, 42.0] < (42.0, 80.0]]\n"
     ]
    }
   ],
   "source": [
    "import pandas as pd\n",
    "data = pd.read_csv(\"../data/train.csv\", sep = \";\")\n",
    "print(pd.qcut(data[\"Age\"], 5))"
   ]
  },
  {
   "cell_type": "code",
   "execution_count": 7,
   "metadata": {},
   "outputs": [
    {
     "name": "stdout",
     "output_type": "stream",
     "text": [
      "0      (18.0, 24.0]\n",
      "1      (24.0, 29.0]\n",
      "2      (18.0, 24.0]\n",
      "3      (44.5, 80.0]\n",
      "4      (24.0, 29.0]\n",
      "           ...     \n",
      "797    (24.0, 29.0]\n",
      "798    (18.0, 24.0]\n",
      "799             NaN\n",
      "800    (24.0, 29.0]\n",
      "801    (29.0, 35.0]\n",
      "Name: Age, Length: 802, dtype: category\n",
      "Categories (6, interval[float64]): [(0.419, 18.0] < (18.0, 24.0] < (24.0, 29.0] < (29.0, 35.0] < (35.0, 44.5] < (44.5, 80.0]]\n"
     ]
    }
   ],
   "source": [
    "print(pd.qcut(data[\"Age\"], 6))"
   ]
  },
  {
   "cell_type": "code",
   "execution_count": 8,
   "metadata": {
    "scrolled": true
   },
   "outputs": [
    {
     "name": "stdout",
     "output_type": "stream",
     "text": [
      "0      (22.0, 26.0]\n",
      "1      (26.0, 31.0]\n",
      "2      (17.0, 22.0]\n",
      "3      (36.0, 46.0]\n",
      "4      (22.0, 26.0]\n",
      "           ...     \n",
      "797    (26.0, 31.0]\n",
      "798    (17.0, 22.0]\n",
      "799             NaN\n",
      "800    (22.0, 26.0]\n",
      "801    (31.0, 36.0]\n",
      "Name: Age, Length: 802, dtype: category\n",
      "Categories (7, interval[float64]): [(0.419, 17.0] < (17.0, 22.0] < (22.0, 26.0] < (26.0, 31.0] < (31.0, 36.0] < (36.0, 46.0] < (46.0, 80.0]]\n"
     ]
    }
   ],
   "source": [
    "print(pd.qcut(data[\"Age\"], 7))"
   ]
  },
  {
   "cell_type": "markdown",
   "metadata": {},
   "source": [
    "I have decided to categorize Age into 5 categories: [(0, 19] < (19, 25] < (25, 32] < (32, 42] < (42, 80]].\n",
    "\n",
    "The same for \"Fare\":"
   ]
  },
  {
   "cell_type": "code",
   "execution_count": 9,
   "metadata": {},
   "outputs": [
    {
     "name": "stdout",
     "output_type": "stream",
     "text": [
      "0          (7.854, 10.5]\n",
      "1          (7.854, 10.5]\n",
      "2        (-0.001, 7.854]\n",
      "3      (39.688, 512.329]\n",
      "4         (10.5, 22.225]\n",
      "             ...        \n",
      "797       (10.5, 22.225]\n",
      "798     (22.225, 39.688]\n",
      "799     (22.225, 39.688]\n",
      "800     (22.225, 39.688]\n",
      "801      (-0.001, 7.854]\n",
      "Name: Fare, Length: 802, dtype: category\n",
      "Categories (5, interval[float64]): [(-0.001, 7.854] < (7.854, 10.5] < (10.5, 22.225] < (22.225, 39.688] < (39.688, 512.329]]\n"
     ]
    }
   ],
   "source": [
    "print(pd.qcut(data[\"Fare\"], 5))"
   ]
  },
  {
   "cell_type": "code",
   "execution_count": null,
   "metadata": {},
   "outputs": [],
   "source": []
  }
 ],
 "metadata": {
  "kernelspec": {
   "display_name": "Python 3",
   "language": "python",
   "name": "python3"
  },
  "language_info": {
   "codemirror_mode": {
    "name": "ipython",
    "version": 3
   },
   "file_extension": ".py",
   "mimetype": "text/x-python",
   "name": "python",
   "nbconvert_exporter": "python",
   "pygments_lexer": "ipython3",
   "version": "3.7.6"
  }
 },
 "nbformat": 4,
 "nbformat_minor": 4
}
